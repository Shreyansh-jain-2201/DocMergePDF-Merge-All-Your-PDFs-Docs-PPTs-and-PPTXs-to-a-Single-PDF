{
 "cells": [
  {
   "cell_type": "code",
   "execution_count": 1,
   "metadata": {},
   "outputs": [],
   "source": [
    "import comtypes.client\n",
    "import os\n",
    "from PyPDF2 import PdfMerger\n",
    "from tqdm import tqdm\n"
   ]
  },
  {
   "cell_type": "code",
   "execution_count": 2,
   "metadata": {},
   "outputs": [],
   "source": [
    "def DocToPdf(inputFile):\n",
    "    outputFile = inputFile.replace('.docx', '.pdf')\n",
    "    word = comtypes.client.CreateObject('Word.Application')\n",
    "    cwd = os.getcwd()\n",
    "    inputFile = os.path.join(cwd, inputFile)\n",
    "    word.Visible = 1\n",
    "    doc = word.Documents.Open(inputFile)\n",
    "    doc.SaveAs(outputFile, FileFormat=17)\n",
    "    doc.Close()\n",
    "    word.Quit()\n",
    "    return outputFile\n",
    "    \n",
    "def PPTtoPdf(inputFile):\n",
    "    if inputFile.endswith('.ppt'):\n",
    "        outputFile = inputFile.replace('.ppt', '.pdf')\n",
    "    elif inputFile.endswith('.pptx'):\n",
    "        outputFile = inputFile.replace('.pptx', '.pdf')\n",
    "    powerpoint = comtypes.client.CreateObject('Powerpoint.Application')\n",
    "    powerpoint.Visible = 1\n",
    "    deck = powerpoint.Presentations.Open(inputFile)\n",
    "    deck.SaveAs(outputFile, FileFormat=32)\n",
    "    deck.Close()\n",
    "    powerpoint.Quit()\n",
    "    return outputFile\n",
    "\n",
    "\n",
    "def MergePdf(inputFiles, outputFile):\n",
    "    merger = PdfMerger()\n",
    "    for pdf in tqdm(inputFiles, desc='Merging pdfs', unit='files'):\n",
    "        merger.append(pdf)\n",
    "    merger.write(outputFile)\n",
    "    merger.close()\n",
    "    return outputFile\n",
    "\n",
    "\n",
    "def delete(filename):\n",
    "    os.remove(filename)\n"
   ]
  },
  {
   "cell_type": "code",
   "execution_count": 3,
   "metadata": {},
   "outputs": [
    {
     "name": "stderr",
     "output_type": "stream",
     "text": [
      "Renaming files: 100%|██████████| 18/18 [00:00<00:00, 2998.67files/s]\n"
     ]
    },
    {
     "name": "stdout",
     "output_type": "stream",
     "text": [
      "1\n",
      "10\n",
      "11\n",
      "12\n",
      "13\n",
      "14\n",
      "15\n",
      "16\n",
      "17\n",
      "18\n",
      "2\n",
      "3\n",
      "4\n",
      "5\n",
      "6\n",
      "7\n",
      "8\n",
      "9\n"
     ]
    },
    {
     "name": "stderr",
     "output_type": "stream",
     "text": [
      "Renaming files: 100%|██████████| 18/18 [00:00<?, ?files/s]\n"
     ]
    },
    {
     "name": "stdout",
     "output_type": "stream",
     "text": [
      "01-Abecedario and Greetings-13-12-2022.ppt\n",
      "10-Ordinal Numbers, Colores, Dias de la Semana, Meses del Año-02-02-2023.pdf\n",
      "11-Ordinal Numbers, Colores, Dias de la Semana, Meses del Año-02-02-2023.pdf\n",
      "12-Ordinal Numbers, Colores, Dias de la Semana, Meses del Año-02-02-2023.pdf\n",
      "13-La Familia and Professions-07-02-2023.pdf\n",
      "14-Giving directions in Spanish-16-02-2023.docx\n",
      "15-Prepositions & Objetos de la Clase-21-02-2023.docx\n",
      "16-Prepositions & Objetos de la Clase-21-02-2023.pdf\n",
      "17-Prepositions & Objetos de la Clase-21-02-2023.docx\n",
      "18-Reflexive Verbs-07-03-2023.pdf\n",
      "02-Numbers & Greetings-15-12-2022.docx\n",
      "03-Countries and Nationalities-22-12-2022.pdf\n",
      "04-Ser, Estar and Tener-10-01-2023.docx\n",
      "05-Verbs- ar, er, ir ending, Numbers- Ordinal and Cardinal-12-01-2023.docx\n",
      "06-Verbs- ar, er, ir ending, Numbers- Ordinal and Cardinal-12-01-2023.docx\n",
      "07-Verbs- ar, er, ir ending, Numbers- Ordinal and Cardinal-12-01-2023.docx\n",
      "08-Worksheets for Practice-19-01-2023.pdf\n",
      "09-Ordinal Numbers, Colores, Dias de la Semana, Meses del Año-02-02-2023.pdf\n"
     ]
    },
    {
     "name": "stderr",
     "output_type": "stream",
     "text": [
      "Converting files to pdf: 100%|██████████| 18/18 [00:31<00:00,  1.73s/files]\n",
      "Merging pdfs: 100%|██████████| 18/18 [00:00<00:00, 111.12files/s]\n",
      "Deleting files: 100%|██████████| 36/36 [00:00<00:00, 2509.64files/s]\n"
     ]
    }
   ],
   "source": [
    "if __name__ == '__main__':\n",
    "    PDFs = []\n",
    "    cwd = os.getcwd()\n",
    "    files = [file for file in os.listdir('.') if file.endswith('.pdf') or file.endswith('.docx') or file.endswith('.pptx') or file.endswith('.ppt')]\n",
    "    wantToRename = input('Do you want to rename the files? (y/n): ').lower()\n",
    "    if (wantToRename == 'y'):\n",
    "        for file in tqdm(files, desc='Renaming files', unit='files'):\n",
    "            try:\n",
    "                num = int(file.split('-')[0])\n",
    "            except Exception:\n",
    "                newFile = f'00{file}'\n",
    "                files[files.index(file)] = newFile\n",
    "                newFile = os.path.join(cwd, newFile)\n",
    "                file = os.path.join(cwd, file)\n",
    "                os.rename(file, newFile)\n",
    "                file = newFile\n",
    "                continue\n",
    "            if (num < 10):\n",
    "                newFile = f'0{file}'\n",
    "                files[files.index(file)] = newFile\n",
    "                newFile = os.path.join(cwd, newFile)\n",
    "                file = os.path.join(cwd, file)\n",
    "                os.rename(file, newFile)\n",
    "                file = newFile\n",
    "    for file in tqdm(files, desc='Converting files to pdf', unit='files'):\n",
    "        file = os.path.join(cwd, file)\n",
    "        if file.endswith('.docx'):\n",
    "            try:\n",
    "                pdf = DocToPdf(file)\n",
    "                PDFs.append(pdf)\n",
    "            except Exception:\n",
    "                print('Error converting file from docx to pdf: ', file)\n",
    "        elif file.endswith('.pptx'):\n",
    "            try:\n",
    "                pdf = PPTtoPdf(file)\n",
    "                PDFs.append(pdf)\n",
    "            except Exception:\n",
    "                print('Error converting file from pptx to pdf: ', file)\n",
    "        elif file.endswith('.ppt'):\n",
    "            try:\n",
    "                pdf = PPTtoPdf(file)\n",
    "                PDFs.append(pdf)\n",
    "            except Exception:\n",
    "                print('Error converting file from ppt to pdf: ', file)\n",
    "\n",
    "        elif file.endswith('.pdf'):\n",
    "            PDFs.append(file)\n",
    "    PDFs.sort()\n",
    "    name = input('Enter the name of the output file: ')\n",
    "    if not name.endswith('.pdf'):\n",
    "        name += '.pdf'\n",
    "    if not os.path.exists('output'):\n",
    "        os.mkdir('output')\n",
    "    name = os.path.join(\"output\", name)\n",
    "    name = os.path.join(cwd, name)\n",
    "    MergePdf(PDFs, name)\n",
    "    files += PDFs\n",
    "    files = list(set(files))\n",
    "    for file in tqdm(files, desc='Deleting files', unit='files'):\n",
    "        if os.path.exists(file):\n",
    "            delete(file)\n",
    "\n"
   ]
  }
 ],
 "metadata": {
  "kernelspec": {
   "display_name": "Python 3",
   "language": "python",
   "name": "python3"
  },
  "language_info": {
   "codemirror_mode": {
    "name": "ipython",
    "version": 3
   },
   "file_extension": ".py",
   "mimetype": "text/x-python",
   "name": "python",
   "nbconvert_exporter": "python",
   "pygments_lexer": "ipython3",
   "version": "3.10.9"
  },
  "orig_nbformat": 4
 },
 "nbformat": 4,
 "nbformat_minor": 2
}
